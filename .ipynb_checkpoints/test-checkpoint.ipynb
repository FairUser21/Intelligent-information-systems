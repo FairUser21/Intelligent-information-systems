{
 "cells": [
  {
   "cell_type": "code",
   "execution_count": null,
   "metadata": {},
   "outputs": [],
   "source": [
    "# This Python 3 environment comes with many helpful analytics libraries installed\n",
    "# It is defined by the kaggle/python Docker image: https://github.com/kaggle/docker-python\n",
    "# For example, here's several helpful packages to load\n",
    "\n",
    "import numpy as np # linear algebra\n",
    "import pandas as pd # data processing, CSV file I/O (e.g. pd.read_csv)\n",
    "\n",
    "# Input data files are available in the read-only \"../input/\" directory\n",
    "# For example, running this (by clicking run or pressing Shift+Enter) will list all files under the input directory\n",
    "\n",
    "import os\n",
    "for dirname, _, filenames in os.walk('/kaggle/input'):\n",
    "    for filename in filenames:\n",
    "        print(os.path.join(dirname, filename))\n",
    "\n",
    "# You can write up to 20GB to the current directory (/kaggle/working/) that gets preserved as output when you create a version using \"Save & Run All\" \n",
    "# You can also write temporary files to /kaggle/temp/, but they won't be saved outside of the current session"
   ]
  },
  {
   "cell_type": "markdown",
   "metadata": {},
   "source": [
    "/kaggle/input/imdb-movie-dataset-dec-2023/imdb_movie_data_2023.csv\n"
   ]
  },
  {
   "cell_type": "code",
   "execution_count": null,
   "metadata": {},
   "outputs": [],
   "source": [
    "import matplotlib.pyplot as plt\n",
    "import seaborn as sns\n",
    "sns.set(style=\"darkgrid\")"
   ]
  },
  {
   "cell_type": "code",
   "execution_count": null,
   "metadata": {},
   "outputs": [],
   "source": [
    "def draw_bars(data_frame, xlabel, ylabel, title):\n",
    "    fig = plt.figure(figsize=(14,5))\n",
    "    ax = sns.barplot(data=data_frame, x=data_frame.columns[0], y=data_frame.columns[1])\n",
    "\n",
    "    for p in ax.patches:\n",
    "        ax.annotate(f'{p.get_height():,.0f}', (p.get_x() + p.get_width() / 2., p.get_height()),\n",
    "                    ha='center', va='center', fontsize=10, color='black', xytext=(0, 5 * (abs(p.get_height())/p.get_height())),\n",
    "                    textcoords='offset points')\n",
    "    plt.xlabel(xlabel)\n",
    "    plt.ylabel(ylabel)\n",
    "    plt.title(title)"
   ]
  },
  {
   "cell_type": "code",
   "execution_count": null,
   "metadata": {},
   "outputs": [],
   "source": [
    "df = pd.read_csv('/dataset/imdb_movie_data_2023.csv', index_col=[0])\n",
    "df['Meta Score'] = df['Meta Score'] / 10"
   ]
  },
  {
   "cell_type": "code",
   "execution_count": null,
   "metadata": {},
   "outputs": [],
   "source": [
    "df.info()"
   ]
  },
  {
   "cell_type": "code",
   "execution_count": null,
   "metadata": {},
   "outputs": [],
   "source": [
    "df.isna().sum()"
   ]
  },
  {
   "cell_type": "code",
   "execution_count": null,
   "metadata": {},
   "outputs": [],
   "source": [
    "df.head()"
   ]
  },
  {
   "cell_type": "code",
   "execution_count": null,
   "metadata": {},
   "outputs": [],
   "source": [
    "top_directors = df['Director'].value_counts()[:20]\n",
    "top_directors = top_directors.reset_index(name='count')\n",
    "df_top_directors = df[df['Director'].isin(top_directors['Director'])]\n",
    "\n",
    "fig = plt.figure(figsize=(14,8))\n",
    "ax = sns.barplot(data=top_directors, y='Director', x='count')\n",
    "\n",
    "for p in ax.patches:\n",
    "    ax.annotate(f'{p.get_width():,.0f}', (p.get_width(), p.get_y() + p.get_height() / 2.),\n",
    "                ha='center', va='center', fontsize=10, color='black', xytext=(5 * (abs(p.get_width())/p.get_width()), 0),\n",
    "                textcoords='offset points')\n",
    "plt.title('Movie Count per Top Directors')"
   ]
  },
  {
   "cell_type": "markdown",
   "metadata": {},
   "source": [
    "Text(0.5, 1.0, 'Movie Count per Top Directors')\n"
   ]
  },
  {
   "cell_type": "code",
   "execution_count": null,
   "metadata": {},
   "outputs": [],
   "source": [
    "mean_rating_per_director = df_top_directors.groupby('Director')['Rating'].mean().reset_index(name='mean_rating')\n",
    "mean_rating_per_director = mean_rating_per_director.sort_values('mean_rating', ascending = False)\n",
    "\n",
    "fig = plt.figure(figsize=(14,8))\n",
    "ax = sns.barplot(data=mean_rating_per_director, y='Director', x='mean_rating')\n",
    "\n",
    "for p in ax.patches:\n",
    "    ax.annotate(f'{p.get_width():,.2f}', (p.get_width(), p.get_y() + p.get_height() / 2.),\n",
    "                ha='center', va='center', fontsize=10, color='black', xytext=(15 * (abs(p.get_width())/p.get_width()), 0),\n",
    "                textcoords='offset points')\n",
    "plt.title('Mean Rating per Top Directors')"
   ]
  },
  {
   "cell_type": "markdown",
   "metadata": {},
   "source": [
    "Text(0.5, 1.0, 'Mean Rating per Top Directors')\n"
   ]
  },
  {
   "cell_type": "code",
   "execution_count": null,
   "metadata": {},
   "outputs": [],
   "source": [
    "mean_votes_per_director = df_top_directors.groupby('Director')['Votes'].mean().reset_index(name='mean_votes')\n",
    "mean_votes_per_director = mean_votes_per_director.sort_values('mean_votes', ascending = False)\n",
    "\n",
    "fig = plt.figure(figsize=(14,8))\n",
    "ax = sns.barplot(data=mean_votes_per_director, y='Director', x='mean_votes')\n",
    "\n",
    "for p in ax.patches:\n",
    "    ax.annotate(f'{p.get_width():,.0f}', (p.get_width(), p.get_y() + p.get_height() / 2.),\n",
    "                ha='center', va='center', fontsize=10, color='black', xytext=(15 * (abs(p.get_width())/p.get_width()), 0),\n",
    "                textcoords='offset points')\n",
    "plt.title('Mean Votes per Top Directors')"
   ]
  },
  {
   "cell_type": "markdown",
   "metadata": {},
   "source": [
    "Text(0.5, 1.0, 'Mean Votes per Top Directors')\n"
   ]
  },
  {
   "cell_type": "code",
   "execution_count": null,
   "metadata": {},
   "outputs": [],
   "source": [
    "top_movies = df[df['Rating'] > 8]\n",
    "top_movies = top_movies.sort_values('Rating', ascending = False)\n",
    "top_movies"
   ]
  },
  {
   "cell_type": "code",
   "execution_count": null,
   "metadata": {},
   "outputs": [],
   "source": [
    "actors_dict = dict()\n",
    "df_no_cast_na = df.dropna(subset=['Cast'])\n",
    "cast_list = df_no_cast_na['Cast'].tolist()\n",
    "for actors in cast_list:\n",
    "    for actor in actors.split(','):\n",
    "        actor = actor.strip()\n",
    "        if actor in actors_dict:\n",
    "            actors_dict[actor] += 1\n",
    "        else:\n",
    "            actors_dict[actor] = 1\n",
    "            \n",
    "top_actors_df = pd.DataFrame(list(actors_dict.items()), columns=['actor_name', 'frequency'])\n",
    "\n",
    "top_actors_df = top_actors_df.sort_values(by='frequency', ascending=False)\n",
    "\n",
    "top_actors_df = top_actors_df.head(20)\n",
    "\n",
    "fig = plt.figure(figsize=(14,8))\n",
    "ax = sns.barplot(data=top_actors_df, y='actor_name', x='frequency')\n",
    "\n",
    "for p in ax.patches:\n",
    "    ax.annotate(f'{p.get_width():,.0f}', (p.get_width(), p.get_y() + p.get_height() / 2.),\n",
    "                ha='center', va='center', fontsize=10, color='black', xytext=(15 * (abs(p.get_width())/p.get_width()), 0),\n",
    "                textcoords='offset points')\n",
    "plt.title('Top Actors by Movie Count')"
   ]
  },
  {
   "cell_type": "markdown",
   "metadata": {},
   "source": [
    "Text(0.5, 1.0, 'Top Actors by Movie Count')\n"
   ]
  },
  {
   "cell_type": "code",
   "execution_count": null,
   "metadata": {},
   "outputs": [],
   "source": [
    "df['PG Rating'].value_counts()"
   ]
  },
  {
   "cell_type": "code",
   "execution_count": null,
   "metadata": {},
   "outputs": [],
   "source": [
    "sns.histplot(data = df, x = 'Year')\n",
    "plt.title('Movies by Year distribution')"
   ]
  },
  {
   "cell_type": "markdown",
   "metadata": {},
   "source": [
    "Text(0.5, 1.0, 'Movies by Year distribution')\n"
   ]
  },
  {
   "cell_type": "code",
   "execution_count": null,
   "metadata": {},
   "outputs": [],
   "source": [
    "df.head()"
   ]
  },
  {
   "cell_type": "code",
   "execution_count": null,
   "metadata": {},
   "outputs": [],
   "source": [
    "sns.scatterplot(data = df, x = 'Rating', y = 'Meta Score') plt.title('Meta Score by IMDB Rating')"
   ]
  },
  {
   "cell_type": "code",
   "execution_count": null,
   "metadata": {},
   "outputs": [],
   "source": [
    "mean_votes_per_director"
   ]
  },
  {
   "cell_type": "markdown",
   "metadata": {},
   "source": [
    "Just checking if i missed a movie from my favorite directors\n"
   ]
  },
  {
   "cell_type": "code",
   "execution_count": null,
   "metadata": {},
   "outputs": [],
   "source": [
    "my_favorite_directors = ['Christopher Nolan', 'Quentin Tarantino','Guy Ritchie']\n",
    "df[df['Director'].isin(my_favorite_directors)].sort_values('Rating', ascending = False)"
   ]
  }
 ],
 "metadata": {
  "kernelspec": {
   "display_name": "Python 3 (ipykernel)",
   "language": "python",
   "name": "python3"
  },
  "language_info": {
   "codemirror_mode": {
    "name": "ipython",
    "version": 3
   },
   "file_extension": ".py",
   "mimetype": "text/x-python",
   "name": "python",
   "nbconvert_exporter": "python",
   "pygments_lexer": "ipython3",
   "version": "3.12.1"
  }
 },
 "nbformat": 4,
 "nbformat_minor": 4
}
